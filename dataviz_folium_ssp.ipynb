{
 "cells": [
  {
   "cell_type": "markdown",
   "id": "b3d21fae",
   "metadata": {},
   "source": [
    "# Objetivo\n",
    "Aprender a utilizar o Folium para visualização de dados em mapas. Para isso usaremos os Dados Públicos de Segurança (SSP-SP) com as ocorrências de veículos subtraídos.\n",
    "\n",
    "**Origem dos Dados:**\n",
    "\n",
    "* Os dados vêm de dois sistemas de registro de ocorrências da Polícia Civil de SP:\n",
    "  **R.D.O. (Registro Digital de Ocorrências)** e **S.P.J. (Sistema de Polícia Judiciária)**.\n",
    "* O **R.D.O.** foi implementado gradualmente até cobrir todos os municípios em 2010.\n",
    "  O **S.P.J.** começou a substituir o R.D.O. entre 2022 e 2023.\n",
    "\n",
    "**Organização das Linhas:**\n",
    "\n",
    "* **Cada linha da base representa um item do boletim**, podendo ser uma pessoa, um objeto ou uma natureza criminal.\n",
    "* **Um mesmo boletim pode gerar várias linhas**, dependendo da quantidade de envolvidos.\n",
    "* Para contar ocorrências únicas, é preciso fazer a **deduplicação**, usando os campos:\n",
    "  `NOME_DELEGACIA`, `ANO_BO`, `NUM_BO`.\n",
    "\n",
    "**Localização das Ocorrências:**\n",
    "\n",
    "* O cidadão pode registrar a ocorrência em qualquer delegacia do Estado, o que gera uma diferença entre:\n",
    "  **Delegacia de registro** ≠ **Delegacia de circunscrição (local real do fato)**.\n",
    "* Cerca de **60% das ocorrências são registradas fora da área de circunscrição**.\n",
    "\n",
    "**Privacidade e Dados Sensíveis:**\n",
    "\n",
    "* Os dados seguem a **Lei de Acesso à Informação (art. 31)** para proteger a identidade das pessoas.\n",
    "* **Endereços sensíveis** (ex: residências, escolas, shoppings, etc.) não são divulgados.\n",
    "  Nesses casos, o campo de localização (`LOGRADOURO`) será preenchido com a frase:\n",
    "  **“VEDAÇÃO DA DIVULGAÇÃO DOS DADOS RELATIVOS”**.\n",
    "\n",
    "Fonte: https://www.ssp.sp.gov.br/estatistica/consultas"
   ]
  },
  {
   "cell_type": "markdown",
   "id": "fff6ebc4",
   "metadata": {},
   "source": [
    "# Bibliotecas"
   ]
  },
  {
   "cell_type": "code",
   "execution_count": null,
   "id": "35fae5e7",
   "metadata": {},
   "outputs": [],
   "source": [
    "import geopandas as gpd\n",
    "import pandas as pd \n",
    "import folium\n",
    "import matplotlib.pyplot as plt\n",
    "import base64\n",
    "\n",
    "from io import BytesIO\n",
    "from folium.plugins import MarkerCluster, HeatMap, HeatMapWithTime\n",
    "import branca.colormap as cm"
   ]
  },
  {
   "cell_type": "code",
   "execution_count": null,
   "id": "681c7a71",
   "metadata": {},
   "outputs": [],
   "source": [
    "def grafico_base64(cod_mun, df_munic_time):\n",
    "    dados = df_munic_time[df_munic_time[\"cod_municipio\"] == cod_mun]\n",
    "    if dados.empty:\n",
    "        return \"\"\n",
    "    \n",
    "    plt.figure(figsize=(3, 2))\n",
    "    plt.plot(dados[\"data_ocorrencia_bo\"], dados[\"tx_incidentes_100k\"], marker=\"o\")\n",
    "\n",
    "    # Adiciona o valor de cada ponto no gráfico\n",
    "    for x, y in zip(dados[\"data_ocorrencia_bo\"], dados[\"tx_incidentes_100k\"]):\n",
    "        plt.text(x, y, f' {y:.1f}', ha='left', va='center', fontsize=7)\n",
    "\n",
    "    # Remove os valores (rótulos) do eixo Y\n",
    "    plt.yticks([])\n",
    "    plt.ylabel(\"\") # Remove o título do eixo Y\n",
    "\n",
    "    ax = plt.gca() # Obtém o objeto Axes atual\n",
    "    ax.spines['top'].set_visible(False)\n",
    "    ax.spines['right'].set_visible(False)\n",
    "    ax.spines['left'].set_visible(False)\n",
    "\n",
    "    plt.xticks(rotation=45, fontsize=7)\n",
    "    plt.title(\"Tx Incidentes ao longo do ano\")\n",
    "    plt.tight_layout()\n",
    "    \n",
    "    buf = BytesIO()\n",
    "    plt.savefig(buf, format=\"png\")\n",
    "    plt.close()\n",
    "    \n",
    "    buf.seek(0)\n",
    "    img_base64 = base64.b64encode(buf.read()).decode(\"utf-8\")\n",
    "    html = f'<img src=\"data:image/png;base64,{img_base64}\">'\n",
    "    return html"
   ]
  },
  {
   "cell_type": "markdown",
   "id": "bd11bf34",
   "metadata": {},
   "source": [
    "# Dados"
   ]
  },
  {
   "cell_type": "code",
   "execution_count": null,
   "id": "4181f5f8",
   "metadata": {},
   "outputs": [],
   "source": [
    "# Constantes\n",
    "grupo_veiculos = {\n",
    "    \"Automovel\": \"Veículos Leves\",\n",
    "    \"Caminhonete\": \"Veículos Leves\",\n",
    "    \"Camioneta\": \"Veículos Leves\",\n",
    "    \"Utilitário\": \"Veículos Leves\",\n",
    "    \"Quadriciclo\": \"Veículos Leves\",\n",
    "    \"Motociclo\": \"Veículos de Duas/Três Rodas\",\n",
    "    \"Motoneta\": \"Veículos de Duas/Três Rodas\",\n",
    "    \"Ciclomoto\": \"Veículos de Duas/Três Rodas\",\n",
    "    \"Triciclo\": \"Veículos de Duas/Três Rodas\",\n",
    "    \"Bicicleta\": \"Veículos de Duas/Três Rodas\",\n",
    "    \"Onibus\": \"Transporte de Passageiros\",\n",
    "    \"Micro-onibus\": \"Transporte de Passageiros\",\n",
    "    \"Caminhão\": \"Veículos de Carga\",\n",
    "    \"Caminhão trator\": \"Veículos de Carga\",\n",
    "    \"Semi-reboque\": \"Veículos de Carga\",\n",
    "    \"Reboque\": \"Veículos de Carga\",\n",
    "    \"Trator rodas\": \"Maquinário e Especiais\",\n",
    "    \"Trator esteiras\": \"Maquinário e Especiais\",\n",
    "    \"Trator misto\": \"Maquinário e Especiais\",\n",
    "    \"Motor casa\": \"Maquinário e Especiais\",\n",
    "    \"Inexistente\": \"Dados Inválidos\",\n",
    "    \"Não informado\": \"Dados Inválidos\"\n",
    "}\n",
    "\n",
    "grupo_veiculos_cor = {\n",
    "    'Dados Inválidos': 'gray',\n",
    "    'Maquinário e Especiais': 'beige',\n",
    "    'Transporte de Passageiros': 'cadetblue',\n",
    "    'Veículos Leves': 'blue',\n",
    "    'Veículos de Carga': 'darkblue',\n",
    "    'Veículos de Duas/Três Rodas': 'lightblue'\n",
    "}\n",
    "\n",
    "cores_ocorrencia = {\n",
    "    \"Localizado / Entregue\": \"lightblue\",\n",
    "    \"Roubado\": \"darkblue\",\n",
    "    \"Furtado\": \"cadetblue\",\n",
    "}"
   ]
  },
  {
   "cell_type": "code",
   "execution_count": null,
   "id": "e118a0ea",
   "metadata": {},
   "outputs": [],
   "source": [
    "df = pd.read_csv(\"data/processed/ocorrencias_2025_1sem.csv\", dtype={\"cod_municipio\": str})\n",
    "geo_sp = gpd.read_file(\"data/processed/SP_Municipios_2024.geojson\")"
   ]
  },
  {
   "cell_type": "code",
   "execution_count": null,
   "id": "17b7377d",
   "metadata": {},
   "outputs": [],
   "source": [
    "df[\"grupo_veiculo\"] = df[\"descr_tipo\"].map(grupo_veiculos)\n",
    "coordenadas_sp = [df[\"latitude\"].mean(), df[\"longitude\"].mean()]\n",
    "\n",
    "print((df.shape, geo_sp.shape))\n",
    "print(df.isnull().sum() / df.shape[0] * 100)\n",
    "\n",
    "# remoção dos nulos faltantes\n",
    "df = df.dropna(subset=[\"latitude\", \"longitude\"])"
   ]
  },
  {
   "cell_type": "markdown",
   "id": "878786d6",
   "metadata": {},
   "source": [
    "# Dataviz com Mapas"
   ]
  },
  {
   "cell_type": "markdown",
   "id": "ce3e4aba",
   "metadata": {},
   "source": [
    "## 1 - Visualizar a distribuição de veículos subtraídos"
   ]
  },
  {
   "cell_type": "markdown",
   "id": "a1870331",
   "metadata": {},
   "source": [
    "### Folium Map"
   ]
  },
  {
   "cell_type": "code",
   "execution_count": null,
   "id": "8eef382b",
   "metadata": {},
   "outputs": [],
   "source": [
    "mapa_sp = folium.Map(location=coordenadas_sp, \n",
    "                     zoom_start=8,\n",
    "                     tiles=\"cartodb positron\")  \n",
    "\n",
    "mapa_sp"
   ]
  },
  {
   "cell_type": "markdown",
   "id": "b79cc87c",
   "metadata": {},
   "source": [
    "### Folium Marker"
   ]
  },
  {
   "cell_type": "markdown",
   "id": "744e13b4",
   "metadata": {},
   "source": [
    "#### Markers"
   ]
  },
  {
   "cell_type": "code",
   "execution_count": null,
   "id": "81f4396a",
   "metadata": {},
   "outputs": [],
   "source": [
    "def add_markers_folium(data, map):\n",
    "    folium.Marker(\n",
    "        location=[data[\"latitude\"], data[\"longitude\"]],\n",
    "    ).add_to(map)\n",
    "    \n",
    "mapa_sp = folium.Map(location=coordenadas_sp, \n",
    "                     zoom_start=6,\n",
    "                     zoom_control=False,\n",
    "                     tiles=\"cartodb positron\")  \n",
    "\n",
    "df[(df[\"data_ocorrencia_bo\"] == \"2025-06-30\")].apply(add_markers_folium, map=mapa_sp, axis=1)\n",
    "\n",
    "mapa_sp"
   ]
  },
  {
   "cell_type": "markdown",
   "id": "806246ae",
   "metadata": {},
   "source": [
    "#### Icon, Tooltip e Popup "
   ]
  },
  {
   "cell_type": "code",
   "execution_count": null,
   "id": "7d37170d",
   "metadata": {},
   "outputs": [],
   "source": [
    "def add_markers_folium(data, map, cores):\n",
    "    folium.Marker(\n",
    "        location=[data[\"latitude\"], data[\"longitude\"]],\n",
    "        tooltip=data[\"grupo_veiculo\"],\n",
    "        icon=folium.Icon(color=cores.get(data[\"grupo_veiculo\"], \"gray\")),\n",
    "        popup=data[\"descr_tipo\"],\n",
    "    ).add_to(map)\n",
    "\n",
    "coordenadas_sp = [df[\"latitude\"].mean(), df[\"longitude\"].mean()]\n",
    "mapa_sp = folium.Map(location=coordenadas_sp, \n",
    "                     zoom_start=8,\n",
    "                     zoom_control=False,                  \n",
    "                     tiles=\"cartodb positron\")  \n",
    "\n",
    "df[(df[\"data_ocorrencia_bo\"] == \"2025-06-30\")].apply(add_markers_folium, map=mapa_sp, cores=grupo_veiculos_cor, axis=1)\n",
    "\n",
    "mapa_sp"
   ]
  },
  {
   "cell_type": "markdown",
   "id": "733cf84e",
   "metadata": {},
   "source": [
    "#### Clusters"
   ]
  },
  {
   "cell_type": "code",
   "execution_count": null,
   "id": "efbaf0a2",
   "metadata": {},
   "outputs": [],
   "source": [
    "# função JS que replica o estilo original do Leaflet.MarkerCluster, mas troca a cor\n",
    "icon_js_template = \"\"\"\n",
    "function(cluster) {\n",
    "    var count = cluster.getChildCount();\n",
    "    \n",
    "    // Define as cores para o círculo INTERNO (fundo) e EXTERNO (borda)\n",
    "    var corFundo = '#434e6c';    // Cor principal, mais escura\n",
    "    var corBorda = '#6f7a99';    // Cor da \"borda\", mais clara\n",
    "    \n",
    "    if (count > 500) { \n",
    "        corFundo = '#bcae6c'; \n",
    "        corBorda = '#e0d5a0';\n",
    "    } else if (count > 100) { \n",
    "        corFundo = '#7d7c78';\n",
    "        corBorda = '#adaaa4';\n",
    "    }\n",
    "\n",
    "    // --- Montagem do HTML com dois DIVs ---\n",
    "    \n",
    "    // Estilo do círculo externo (a \"borda\")\n",
    "    // Ele usa display:flex para centralizar o seu filho (o círculo interno)\n",
    "    var outer_div_style = 'background-color:' + corBorda + '; width:100%; height:100%; border-radius:50%; display:flex; align-items:center; justify-content:center; font-weight:bold; color:white;';\n",
    "    \n",
    "    // Estilo do círculo interno (o \"fundo\")\n",
    "    // Adicionamos 'margin:0;' para anular qualquer estilo padrão e garantir a centralização\n",
    "    var inner_div_style = 'background-color:' + corFundo + '; width:75%; height:75%; border-radius:50%; display:flex; align-items:center; justify-content:center; margin:0;';\n",
    "\n",
    "    // Juntamos tudo para formar o ícone com os dois círculos\n",
    "    var html = '<div style=\"' + outer_div_style + '\">' +\n",
    "                 '<div style=\"' + inner_div_style + '\">' +\n",
    "                   '<span>' + count + '</span>' +\n",
    "                 '</div>' +\n",
    "               '</div>';\n",
    "\n",
    "    return new L.DivIcon({\n",
    "        html: html,\n",
    "        className: 'marker-cluster',\n",
    "        iconSize: new L.Point(40, 40)\n",
    "    });\n",
    "}\n",
    "\"\"\""
   ]
  },
  {
   "cell_type": "code",
   "execution_count": null,
   "id": "b3fe2201",
   "metadata": {},
   "outputs": [],
   "source": [
    "def add_markers_folium_group(data, map, cores_tipo):\n",
    "    folium.Marker(\n",
    "        location=[data[\"latitude\"], data[\"longitude\"]],\n",
    "        tooltip=data[\"descr_ocorrencia_veiculo\"],\n",
    "        icon=folium.Icon(color=cores_tipo.get(data[\"descr_ocorrencia_veiculo\"], \"gray\")),\n",
    "        popup=data[\"grupo_veiculo\"],\n",
    "    ).add_to(map)\n",
    "\n",
    "# centro do mapa\n",
    "coordenadas_sp = [df[\"latitude\"].mean(), df[\"longitude\"].mean()]\n",
    "mapa_sp = folium.Map(location=coordenadas_sp, \n",
    "                     zoom_start=8,\n",
    "                     zoom_control=False,  \n",
    "                     tiles=\"cartodb positron\")  \n",
    "\n",
    "marker_cluster = MarkerCluster(icon_create_function=icon_js_template).add_to(mapa_sp)\n",
    "\n",
    "df.apply(add_markers_folium_group, map=marker_cluster, cores_tipo=cores_ocorrencia, axis=1)\n",
    "\n",
    "mapa_sp"
   ]
  },
  {
   "cell_type": "markdown",
   "id": "65491a1c",
   "metadata": {},
   "source": [
    "#### Filters"
   ]
  },
  {
   "cell_type": "code",
   "execution_count": null,
   "id": "404d822e",
   "metadata": {},
   "outputs": [],
   "source": [
    "def add_markers_folium_group(data, map, cores_tipo):\n",
    "    folium.Marker(\n",
    "        location=[data[\"latitude\"], data[\"longitude\"]],\n",
    "        tooltip=data[\"descr_ocorrencia_veiculo\"],\n",
    "        icon=folium.Icon(color=cores_tipo.get(data[\"descr_ocorrencia_veiculo\"], \"gray\")),\n",
    "        popup=data[\"grupo_veiculo\"],\n",
    "    ).add_to(map)\n",
    "\n",
    "# centro do mapa\n",
    "coordenadas_sp = [df[\"latitude\"].mean(), df[\"longitude\"].mean()]\n",
    "mapa_sp = folium.Map(location=coordenadas_sp, \n",
    "                     zoom_start=8,\n",
    "                     zoom_control=False,  \n",
    "                     tiles=\"cartodb positron\")  \n",
    "\n",
    "clusters_por_grupo = {}\n",
    "for grupo in set(grupo_veiculos.values()):\n",
    "    fg = folium.FeatureGroup(name=grupo)\n",
    "    mc = MarkerCluster(icon_create_function=icon_js_template).add_to(fg)\n",
    "    fg.add_to(mapa_sp)                \n",
    "    clusters_por_grupo[grupo] = mc\n",
    "\n",
    "mapeamento_grupos = {tipo: clusters_por_grupo[grupo] for tipo, grupo in grupo_veiculos.items()}\n",
    "df.apply(\n",
    "    lambda x: add_markers_folium_group(\n",
    "        x,\n",
    "        map=mapeamento_grupos.get(x[\"descr_tipo\"], clusters_por_grupo.get(\"Dados Inválidos\")),\n",
    "        cores_tipo=cores_ocorrencia\n",
    "    ),\n",
    "    axis=1\n",
    ")\n",
    "\n",
    "folium.LayerControl().add_to(mapa_sp)\n",
    "\n",
    "mapa_sp"
   ]
  },
  {
   "cell_type": "markdown",
   "id": "f2089e0c",
   "metadata": {},
   "source": [
    "## 2 - Visualizar os locais com maior incidência de assaltos"
   ]
  },
  {
   "cell_type": "code",
   "execution_count": null,
   "id": "26b4e539",
   "metadata": {},
   "outputs": [],
   "source": [
    "gradiente_customizado =  {  \n",
    "                            .4: \"#230864\", \n",
    "                            .6: \"#5a3898\", \n",
    "                            .7: \"#ca9efc\", \n",
    "                            .8: \"#f8c871\", \n",
    "                             1: \"#ffec93\"\n",
    "                        }\n",
    "\n",
    "# https://gka.github.io/palettes\n",
    "# https://davidmathlogic.com/colorblind/"
   ]
  },
  {
   "cell_type": "markdown",
   "id": "743919fa",
   "metadata": {},
   "source": [
    "### Heatmap"
   ]
  },
  {
   "cell_type": "code",
   "execution_count": null,
   "id": "c3b947f8",
   "metadata": {},
   "outputs": [],
   "source": [
    "df_incidente = (\n",
    "    df.groupby([\"nome_delegacia\", \"num_bo\"])\n",
    "      .agg(\n",
    "            total_veiculos_assaltados=(\"descr_ocorrencia_veiculo\", \"count\"),\n",
    "            tipos_veiculos_assaltados=(\"descr_tipo\", lambda x: x.nunique()),\n",
    "            latitude=(\"latitude\", \"first\"),\n",
    "            longitude=(\"longitude\", \"first\"),\n",
    "      )\n",
    "      .reset_index()\n",
    ")"
   ]
  },
  {
   "cell_type": "code",
   "execution_count": null,
   "id": "839da5a5",
   "metadata": {},
   "outputs": [],
   "source": [
    "coordenadas_sp = [df_incidente[\"latitude\"].mean(), df_incidente[\"longitude\"].mean()]\n",
    "mapa_sp = folium.Map(location=coordenadas_sp, \n",
    "                     zoom_start=8,\n",
    "                     zoom_control=False,  \n",
    "                     tiles=\"cartodb positron\")  \n",
    "\n",
    "HeatMap(data=df_incidente[[\"latitude\", \"longitude\"]], \n",
    "        radius=10,\n",
    "        gradient=gradiente_customizado,\n",
    "        min_opacity=0.5).add_to(mapa_sp)\n",
    "\n",
    "mapa_sp"
   ]
  },
  {
   "cell_type": "markdown",
   "id": "fa1eaeb9",
   "metadata": {},
   "source": [
    "### HeatmapWithTime"
   ]
  },
  {
   "cell_type": "code",
   "execution_count": null,
   "id": "41b53e8c",
   "metadata": {},
   "outputs": [],
   "source": [
    "df_incidente = (\n",
    "    df.groupby([\"data_ocorrencia_bo\", \"nome_delegacia\", \"num_bo\"])\n",
    "      .agg(\n",
    "            total_veiculos_assaltados=(\"descr_ocorrencia_veiculo\", \"count\"),\n",
    "            tipos_veiculos_assaltados=(\"descr_tipo\", lambda x: x.nunique()),\n",
    "            latitude=(\"latitude\", \"first\"),\n",
    "            longitude=(\"longitude\", \"first\"),\n",
    "      )\n",
    "      .reset_index()\n",
    ")\n",
    "\n",
    "df_incidente[\"data_ocorrencia_bo\"] = pd.to_datetime(df_incidente[\"data_ocorrencia_bo\"])\n",
    "df_incidente = df_incidente.sort_values(\"data_ocorrencia_bo\")\n",
    "\n",
    "heat_data = [\n",
    "    df_incidente[df_incidente[\"data_ocorrencia_bo\"] == data][[\"latitude\", \"longitude\"]].values.tolist()\n",
    "    for data in df_incidente[\"data_ocorrencia_bo\"].unique()\n",
    "]\n",
    "\n",
    "coordenadas_sp = [df_incidente[\"latitude\"].mean(), df_incidente[\"longitude\"].mean()]\n",
    "mapa_sp = folium.Map(location=coordenadas_sp, \n",
    "                     zoom_start=8,\n",
    "                     zoom_control=False,\n",
    "                     tiles=\"cartodb positron\")  \n",
    "\n",
    "HeatMapWithTime(\n",
    "    heat_data,\n",
    "    index=[str(d.date()) for d in df_incidente[\"data_ocorrencia_bo\"].unique()],\n",
    "    radius=8,\n",
    "    blur=1,\n",
    "    min_opacity=0.5,\n",
    "    gradient=gradiente_customizado\n",
    ").add_to(mapa_sp)\n",
    "\n",
    "mapa_sp"
   ]
  },
  {
   "cell_type": "markdown",
   "id": "e8fea623",
   "metadata": {},
   "source": [
    "## 3 - Visualizar a taxa de ocorrências por município"
   ]
  },
  {
   "cell_type": "markdown",
   "id": "9dbc2f9a",
   "metadata": {},
   "source": [
    "### GeoJson"
   ]
  },
  {
   "cell_type": "code",
   "execution_count": null,
   "id": "282d580e",
   "metadata": {},
   "outputs": [],
   "source": [
    "df_municipio = (\n",
    "    df.groupby([\"cod_municipio\"], as_index=False)\n",
    "      .agg(incidentes=(\"num_bo\", \"nunique\"),\n",
    "           area_km2=(\"area_km2\", \"first\"),\n",
    "           populacao_estimada=(\"populacao_estimada\", \"first\"))\n",
    ")\n",
    "\n",
    "df_municipio[\"tx_incidentes_100k\"] = (df_municipio[\"incidentes\"] / df_municipio[\"populacao_estimada\"]) * 100000\n",
    "\n",
    "geo_sp = geo_sp.merge(df_municipio[[\"cod_municipio\", \"tx_incidentes_100k\"]].rename(columns={\"cod_municipio\": \"CD_MUN\"}),\n",
    "                      on=\"CD_MUN\",\n",
    "                      how=\"left\")"
   ]
  },
  {
   "cell_type": "code",
   "execution_count": null,
   "id": "ceec7394",
   "metadata": {},
   "outputs": [],
   "source": [
    "geo_sp.head()"
   ]
  },
  {
   "cell_type": "code",
   "execution_count": null,
   "id": "6ec9d91f",
   "metadata": {},
   "outputs": [],
   "source": [
    "paleta_personalizada = ['#c3e3ff', '#a3c4fe', '#87a8e8', '#6b8ecc', '#4f74b0', '#325c95', '#0b457b', '#002c5f', '#001544']\n",
    "colormap_personalizado = cm.LinearColormap(colors=paleta_personalizada)\n",
    "\n",
    "colormap = colormap_personalizado.scale(\n",
    "    df_municipio[\"tx_incidentes_100k\"].min(),\n",
    "    df_municipio[\"tx_incidentes_100k\"].max()\n",
    ")\n",
    "\n",
    "colormap.caption = \"Taxa de Incidentes por Município (por 100k habitantes)\"\n",
    "colormap"
   ]
  },
  {
   "cell_type": "code",
   "execution_count": null,
   "id": "599300be",
   "metadata": {},
   "outputs": [],
   "source": [
    "coordenadas_sp = [df[\"latitude\"].mean(), df[\"longitude\"].mean()]\n",
    "mapa_sp = folium.Map(location=coordenadas_sp, \n",
    "                     zoom_start=8,\n",
    "                     zoom_control=False,  \n",
    "                     tiles=\"cartodb positron\")  \n",
    "\n",
    "incidentes_munic = dict(zip(df_municipio[\"cod_municipio\"], df_municipio[\"tx_incidentes_100k\"]))\n",
    "\n",
    "color_dict = {key: colormap(incidentes_munic[key]) for key in incidentes_munic.keys()}\n",
    "\n",
    "# Adiciona o GeoJson ao mapa\n",
    "folium.GeoJson(\n",
    "    geo_sp,\n",
    "    style_function=lambda feature: {\n",
    "        \"fillColor\": color_dict.get(feature[\"properties\"][\"CD_MUN\"], \"lightgray\"),\n",
    "        \"color\": \"black\",\n",
    "        \"weight\": 1,\n",
    "        \"dashArray\": \"5, 5\",\n",
    "        \"fillOpacity\": 0.5,\n",
    "    },\n",
    "    tooltip=folium.GeoJsonTooltip(fields=[\"NM_MUN\", \"tx_incidentes_100k\"], \n",
    "                                  aliases=[\"Município:\", \"Tx Incidentes (100k)\"]),\n",
    "    highlight_function=lambda feature: {\n",
    "        \"fillColor\": (\n",
    "            \"#FFCE77\"\n",
    "        ),\n",
    "    },\n",
    ").add_to(mapa_sp)\n",
    "\n",
    "colormap.add_to(mapa_sp)\n",
    "\n",
    "mapa_sp"
   ]
  },
  {
   "cell_type": "markdown",
   "id": "1c8e602f",
   "metadata": {},
   "source": [
    "### Geojson + Tooltip"
   ]
  },
  {
   "cell_type": "code",
   "execution_count": null,
   "id": "0d9b1dba",
   "metadata": {},
   "outputs": [],
   "source": [
    "# Calcula a série temporal da taxa de incidentes por município\n",
    "df_munic_time = (\n",
    "    df.groupby([\"cod_municipio\", df[\"data_ocorrencia_bo\"].str[:4] + \"-\" + df[\"data_ocorrencia_bo\"].str[5:7]])\n",
    "      .agg(incidentes=(\"num_bo\", \"nunique\"), populacao=(\"populacao_estimada\", \"first\"))\n",
    "      .reset_index()\n",
    ")\n",
    "df_munic_time[\"tx_incidentes_100k\"] = (df_munic_time[\"incidentes\"] / df_munic_time[\"populacao\"]) * 100000\n",
    "\n",
    "# Adiciona coluna com gráfico base64 em geo_sp\n",
    "geo_sp[\"grafico_html\"] = geo_sp[\"CD_MUN\"].apply(grafico_base64, df_munic_time=df_munic_time)\n",
    "\n",
    "coordenadas_sp = [df[\"latitude\"].mean(), df[\"longitude\"].mean()]\n",
    "mapa_sp = folium.Map(location=coordenadas_sp, \n",
    "                     zoom_start=8,\n",
    "                     zoom_control=False,  \n",
    "                     tiles=\"cartodb positron\")  \n",
    "\n",
    "incidentes_munic = dict(zip(df_municipio[\"cod_municipio\"], df_municipio[\"tx_incidentes_100k\"]))\n",
    "color_dict = {key: colormap(incidentes_munic[key]) for key in incidentes_munic.keys()}\n",
    "\n",
    "folium.GeoJson(\n",
    "    geo_sp,\n",
    "    style_function=lambda feature: {\n",
    "        \"fillColor\": color_dict.get(feature[\"properties\"][\"CD_MUN\"], \"lightgray\"),\n",
    "        \"color\": \"black\",\n",
    "        \"weight\": 1,\n",
    "        \"dashArray\": \"5, 5\",\n",
    "        \"fillOpacity\": 0.4,\n",
    "    },\n",
    "    tooltip=folium.GeoJsonTooltip(fields=[\"NM_MUN\", \"tx_incidentes_100k\"], \n",
    "                                  aliases=[\"Município:\", \"Tx Incidentes (100k)\"]),\n",
    "    highlight_function=lambda feature: {\"fillColor\": \"#FFCE77\"},\n",
    "    popup=folium.GeoJsonPopup(\n",
    "        fields=[\"grafico_html\"],\n",
    "        aliases=[\"\"],\n",
    "        labels=True,\n",
    "        max_width=250\n",
    "    )\n",
    ").add_to(mapa_sp)\n",
    "\n",
    "colormap.add_to(mapa_sp)\n",
    "\n",
    "mapa_sp"
   ]
  }
 ],
 "metadata": {
  "kernelspec": {
   "display_name": "sp_safety",
   "language": "python",
   "name": "python3"
  },
  "language_info": {
   "codemirror_mode": {
    "name": "ipython",
    "version": 3
   },
   "file_extension": ".py",
   "mimetype": "text/x-python",
   "name": "python",
   "nbconvert_exporter": "python",
   "pygments_lexer": "ipython3",
   "version": "3.11.11"
  }
 },
 "nbformat": 4,
 "nbformat_minor": 5
}
